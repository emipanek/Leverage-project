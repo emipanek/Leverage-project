{
 "cells": [
  {
   "cell_type": "code",
   "execution_count": 13,
   "id": "e21a3f2c",
   "metadata": {},
   "outputs": [],
   "source": [
    "import numpy as np\n",
    "import matplotlib.pyplot as plt\n",
    "import pandas as pd"
   ]
  },
  {
   "cell_type": "code",
   "execution_count": null,
   "id": "4d7ffe6e",
   "metadata": {},
   "outputs": [
    {
     "data": {
      "text/html": [
       "<div>\n",
       "<style scoped>\n",
       "    .dataframe tbody tr th:only-of-type {\n",
       "        vertical-align: middle;\n",
       "    }\n",
       "\n",
       "    .dataframe tbody tr th {\n",
       "        vertical-align: top;\n",
       "    }\n",
       "\n",
       "    .dataframe thead th {\n",
       "        text-align: right;\n",
       "    }\n",
       "</style>\n",
       "<table border=\"1\" class=\"dataframe\">\n",
       "  <thead>\n",
       "    <tr style=\"text-align: right;\">\n",
       "      <th></th>\n",
       "      <th>Unnamed: 0</th>\n",
       "      <th>Star Temperature [K]</th>\n",
       "      <th>Planet Temperature [K]</th>\n",
       "      <th>Planet Radius [Rjup]</th>\n",
       "      <th>Total Observation Time [days]</th>\n",
       "    </tr>\n",
       "  </thead>\n",
       "  <tbody>\n",
       "    <tr>\n",
       "      <th>0</th>\n",
       "      <td>0</td>\n",
       "      <td>4500.0</td>\n",
       "      <td>1427.313329</td>\n",
       "      <td>1.006000</td>\n",
       "      <td>0.148699</td>\n",
       "    </tr>\n",
       "    <tr>\n",
       "      <th>1</th>\n",
       "      <td>1</td>\n",
       "      <td>5576.0</td>\n",
       "      <td>1265.639433</td>\n",
       "      <td>1.150000</td>\n",
       "      <td>2.231036</td>\n",
       "    </tr>\n",
       "    <tr>\n",
       "      <th>2</th>\n",
       "      <td>2</td>\n",
       "      <td>4590.0</td>\n",
       "      <td>949.068534</td>\n",
       "      <td>0.288000</td>\n",
       "      <td>13.786765</td>\n",
       "    </tr>\n",
       "    <tr>\n",
       "      <th>3</th>\n",
       "      <td>3</td>\n",
       "      <td>3765.0</td>\n",
       "      <td>676.148532</td>\n",
       "      <td>0.469000</td>\n",
       "      <td>2.470048</td>\n",
       "    </tr>\n",
       "    <tr>\n",
       "      <th>4</th>\n",
       "      <td>4</td>\n",
       "      <td>5255.0</td>\n",
       "      <td>351.814878</td>\n",
       "      <td>0.810000</td>\n",
       "      <td>5.001606</td>\n",
       "    </tr>\n",
       "    <tr>\n",
       "      <th>...</th>\n",
       "      <td>...</td>\n",
       "      <td>...</td>\n",
       "      <td>...</td>\n",
       "      <td>...</td>\n",
       "      <td>...</td>\n",
       "    </tr>\n",
       "    <tr>\n",
       "      <th>2742</th>\n",
       "      <td>2742</td>\n",
       "      <td>5189.0</td>\n",
       "      <td>1103.905469</td>\n",
       "      <td>0.322872</td>\n",
       "      <td>32.223000</td>\n",
       "    </tr>\n",
       "    <tr>\n",
       "      <th>2743</th>\n",
       "      <td>2743</td>\n",
       "      <td>6368.0</td>\n",
       "      <td>1101.800790</td>\n",
       "      <td>1.117524</td>\n",
       "      <td>12.253500</td>\n",
       "    </tr>\n",
       "    <tr>\n",
       "      <th>2744</th>\n",
       "      <td>2744</td>\n",
       "      <td>8031.0</td>\n",
       "      <td>3886.260234</td>\n",
       "      <td>0.838344</td>\n",
       "      <td>0.908250</td>\n",
       "    </tr>\n",
       "    <tr>\n",
       "      <th>2745</th>\n",
       "      <td>2745</td>\n",
       "      <td>8388.0</td>\n",
       "      <td>2097.487577</td>\n",
       "      <td>1.040307</td>\n",
       "      <td>5.450000</td>\n",
       "    </tr>\n",
       "    <tr>\n",
       "      <th>2746</th>\n",
       "      <td>2746</td>\n",
       "      <td>9855.0</td>\n",
       "      <td>3139.495420</td>\n",
       "      <td>0.797149</td>\n",
       "      <td>11.494250</td>\n",
       "    </tr>\n",
       "  </tbody>\n",
       "</table>\n",
       "<p>2747 rows × 5 columns</p>\n",
       "</div>"
      ],
      "text/plain": [
       "      Unnamed: 0  Star Temperature [K]  Planet Temperature [K]  \\\n",
       "0              0                4500.0             1427.313329   \n",
       "1              1                5576.0             1265.639433   \n",
       "2              2                4590.0              949.068534   \n",
       "3              3                3765.0              676.148532   \n",
       "4              4                5255.0              351.814878   \n",
       "...          ...                   ...                     ...   \n",
       "2742        2742                5189.0             1103.905469   \n",
       "2743        2743                6368.0             1101.800790   \n",
       "2744        2744                8031.0             3886.260234   \n",
       "2745        2745                8388.0             2097.487577   \n",
       "2746        2746                9855.0             3139.495420   \n",
       "\n",
       "      Planet Radius [Rjup]  Total Observation Time [days]  \n",
       "0                 1.006000                       0.148699  \n",
       "1                 1.150000                       2.231036  \n",
       "2                 0.288000                      13.786765  \n",
       "3                 0.469000                       2.470048  \n",
       "4                 0.810000                       5.001606  \n",
       "...                    ...                            ...  \n",
       "2742              0.322872                      32.223000  \n",
       "2743              1.117524                      12.253500  \n",
       "2744              0.838344                       0.908250  \n",
       "2745              1.040307                       5.450000  \n",
       "2746              0.797149                      11.494250  \n",
       "\n",
       "[2747 rows x 5 columns]"
      ]
     },
     "execution_count": 48,
     "metadata": {},
     "output_type": "execute_result"
    }
   ],
   "source": [
    "# Load the data from the CSV file\n",
    "data = pd.read_csv('reduced_data.csv')\n",
    "obs_time = data['Total Observation Time [days]'].values\n",
    "\n",
    "data"
   ]
  },
  {
   "cell_type": "code",
   "execution_count": 49,
   "id": "18612b6e",
   "metadata": {},
   "outputs": [
    {
     "data": {
      "text/plain": [
       "[<matplotlib.lines.Line2D at 0x108cd50d0>]"
      ]
     },
     "execution_count": 49,
     "metadata": {},
     "output_type": "execute_result"
    },
    {
     "data": {
      "image/png": "[encoded data removed]",
      "text/plain": [
       "<Figure size 640x480 with 1 Axes>"
      ]
     },
     "metadata": {},
     "output_type": "display_data"
    }
   ],
   "source": [
    "plt.plot(np.cumsum(np.sort(obs_time)), range(len(obs_time)))"
   ]
  },
  {
   "cell_type": "markdown",
   "id": "cc533d36",
   "metadata": {},
   "source": [
    "#### Comparison Data"
   ]
  },
  {
   "cell_type": "code",
   "execution_count": 50,
   "id": "da6532b2",
   "metadata": {},
   "outputs": [
    {
     "data": {
      "text/plain": [
       "(0.0, 900.0)"
      ]
     },
     "execution_count": 50,
     "metadata": {},
     "output_type": "execute_result"
    },
    {
     "data": {
      "image/png": "[encoded data removed]",
      "text/plain": [
       "<Figure size 640x480 with 1 Axes>"
      ]
     },
     "metadata": {},
     "output_type": "display_data"
    }
   ],
   "source": [
    "cumulateive_time = np.load('cumulative_obs_time_days.npy')\n",
    "cumulative_targets = np.load('cumulative_targets.npy')\n",
    "plt.plot(cumulateive_time, cumulative_targets, label='Cumulative Targets')\n",
    "plt.plot(np.cumsum(np.sort(obs_time)), range(len(obs_time)), ls='--')\n",
    "plt.xlim(0, 1100)\n",
    "plt.ylim(0, 900)"
   ]
  },
  {
   "cell_type": "code",
   "execution_count": null,
   "id": "b1ffa4a6",
   "metadata": {},
   "outputs": [],
   "source": []
  }
 ],
 "metadata": {
  "kernelspec": {
   "display_name": ".venv",
   "language": "python",
   "name": "python3"
  },
  "language_info": {
   "codemirror_mode": {
    "name": "ipython",
    "version": 3
   },
   "file_extension": ".py",
   "mimetype": "text/x-python",
   "name": "python",
   "nbconvert_exporter": "python",
   "pygments_lexer": "ipython3",
   "version": "3.12.4"
  }
 },
 "nbformat": 4,
 "nbformat_minor": 5
}
